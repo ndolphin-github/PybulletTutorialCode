{
 "cells": [
  {
   "cell_type": "code",
   "execution_count": 72,
   "metadata": {},
   "outputs": [],
   "source": [
    "import pybullet as p\n",
    "import pybullet_data\n",
    "import os\n",
    "import sys\n",
    "import time"
   ]
  },
  {
   "cell_type": "code",
   "execution_count": 73,
   "metadata": {},
   "outputs": [],
   "source": [
    "from somo.sm_manipulator_definition import SMManipulatorDefinition"
   ]
  },
  {
   "cell_type": "code",
   "execution_count": 74,
   "metadata": {},
   "outputs": [],
   "source": [
    "#opt_str = \"--background_color_red=1.0 --background_color_green=1.0 --background_color_blue=1.0\"  # this opens the gui with a white background and no ground grid\n",
    "#physicsClient = p.connect(p.GUI, options=opt_str)\n",
    "\n",
    "cam_width, cam_height = 1920, 1640\n",
    "\n",
    "physicsClient = p.connect(p.GUI, options=\"--width=1024 --height=768\")\n",
    "cam_distance, cam_yaw, cam_pitch, cam_xyz_target = 8.76, 30.0, -30.0, [0.0, 0.0, 2.4]\n",
    "\n",
    "p.resetDebugVisualizerCamera(\n",
    "    cameraDistance=cam_distance,\n",
    "    cameraYaw=cam_yaw,\n",
    "    cameraPitch=cam_pitch,\n",
    "    cameraTargetPosition=cam_xyz_target,\n",
    ")"
   ]
  },
  {
   "cell_type": "code",
   "execution_count": 75,
   "metadata": {},
   "outputs": [],
   "source": [
    "p.setGravity(0, 0, -9.81)\n",
    "p.setPhysicsEngineParameter(enableConeFriction=1) # Confriction?\n",
    "p.setRealTimeSimulation(0) # real time control ?  \n",
    "\n",
    "armId= p.loadURDF(\"bb_arm.urdf\")\n",
    "\n",
    "planeId = p.loadURDF(\"plane/plane.urdf\", flags=p.URDF_USE_MATERIAL_COLORS_FROM_MTL)\n",
    "p.changeDynamics(planeId, -1, lateralFriction=1)  # set ground plane friction\n",
    "#loadURDF(filename, basePos, baseOri, useMaximalCoordinates, useFixedBase, flags, globalscaling, physicsclientID)\n",
    "#boxId = p.loadURDF(\"twoBoxes.urdf\")"
   ]
  },
  {
   "cell_type": "code",
   "execution_count": 76,
   "metadata": {},
   "outputs": [
    {
     "ename": "error",
     "evalue": "Not connected to physics server.",
     "output_type": "error",
     "traceback": [
      "\u001b[1;31m---------------------------------------------------------------------------\u001b[0m",
      "\u001b[1;31merror\u001b[0m                                     Traceback (most recent call last)",
      "Cell \u001b[1;32mIn[76], line 1\u001b[0m\n\u001b[1;32m----> 1\u001b[0m p\u001b[39m.\u001b[39;49mdisconnect(physicsClient)\n",
      "\u001b[1;31merror\u001b[0m: Not connected to physics server."
     ]
    }
   ],
   "source": [
    "p.disconnect(physicsClient)"
   ]
  },
  {
   "cell_type": "code",
   "execution_count": 10,
   "metadata": {},
   "outputs": [],
   "source": [
    "physicsClient = p.connect(p.GUI)\n",
    "#print(p.setAdditionalSearchPath(pybullet_data.getDataPath()))"
   ]
  },
  {
   "cell_type": "code",
   "execution_count": 24,
   "metadata": {},
   "outputs": [
    {
     "name": "stdout",
     "output_type": "stream",
     "text": [
      "(1.5117627740528593e-08, 1.4889593646656074e-06, 0.47099230897457317) (-3.379035448734749e-08, 3.997113849372463e-09, 9.265643796039036e-08, 0.9999999999999951)\n"
     ]
    }
   ],
   "source": [
    "import pybullet as p\n",
    "import time\n",
    "import pybullet_data\n",
    "physicsClient = p.connect(p.GUI)#or p.DIRECT for non-graphical version\n",
    "p.setAdditionalSearchPath(pybullet_data.getDataPath()) #optionally\n",
    "p.setGravity(0,0,-10)\n",
    "planeId = p.loadURDF(\"plane.urdf\")\n",
    "startPos = [0,0,1]\n",
    "startOrientation = p.getQuaternionFromEuler([0,0,0])\n",
    "boxId = p.loadURDF(\"r2d2.urdf\",startPos, startOrientation)\n",
    "#set the center of mass frame (loadURDF sets base link frame)\n",
    "startPos = p.resetBasePositionAndOrientation(boxId, startPos, startOrientation)\n",
    "for i in range (100):\n",
    " p.stepSimulation()\n",
    " time.sleep(1./240.)\n",
    "cubePos, cubeOrn = p.getBasePositionAndOrientation(boxId)\n",
    "print(cubePos,cubeOrn)\n",
    "p.disconnect(physicsClient)"
   ]
  },
  {
   "cell_type": "code",
   "execution_count": 78,
   "metadata": {},
   "outputs": [
    {
     "ename": "error",
     "evalue": "Not connected to physics server.",
     "output_type": "error",
     "traceback": [
      "\u001b[1;31m---------------------------------------------------------------------------\u001b[0m",
      "\u001b[1;31merror\u001b[0m                                     Traceback (most recent call last)",
      "Cell \u001b[1;32mIn[78], line 5\u001b[0m\n\u001b[0;32m      3\u001b[0m p\u001b[39m.\u001b[39misConnected()\n\u001b[0;32m      4\u001b[0m p\u001b[39m.\u001b[39mdisconnect(physicsClient)\n\u001b[1;32m----> 5\u001b[0m p\u001b[39m.\u001b[39;49msetAdditionalSearchPath(pybullet_data\u001b[39m.\u001b[39;49mgetDataPath())\n",
      "\u001b[1;31merror\u001b[0m: Not connected to physics server."
     ]
    }
   ],
   "source": [
    "physicsClient = p.connect(p.GUI)\n",
    "p.getConnectionInfo()\n",
    "p.isConnected()\n",
    "p.disconnect(physicsClient)\n",
    "p.setAdditionalSearchPath(pybullet_data.getDataPath())"
   ]
  },
  {
   "cell_type": "code",
   "execution_count": 70,
   "metadata": {},
   "outputs": [
    {
     "ename": "error",
     "evalue": "Not connected to physics server.",
     "output_type": "error",
     "traceback": [
      "\u001b[1;31m---------------------------------------------------------------------------\u001b[0m",
      "\u001b[1;31merror\u001b[0m                                     Traceback (most recent call last)",
      "Cell \u001b[1;32mIn[70], line 19\u001b[0m\n\u001b[0;32m     17\u001b[0m boxId \u001b[39m=\u001b[39m p\u001b[39m.\u001b[39mloadURDF(\u001b[39m\"\u001b[39m\u001b[39mr2d2.urdf\u001b[39m\u001b[39m\"\u001b[39m,BP,BO,_,_,_,\u001b[39m3\u001b[39m)\n\u001b[0;32m     18\u001b[0m \u001b[39mfor\u001b[39;00m i \u001b[39min\u001b[39;00m \u001b[39mrange\u001b[39m (\u001b[39m1000\u001b[39m):\n\u001b[1;32m---> 19\u001b[0m  p\u001b[39m.\u001b[39;49mstepSimulation()\n\u001b[0;32m     20\u001b[0m  time\u001b[39m.\u001b[39msleep(\u001b[39m1.\u001b[39m\u001b[39m/\u001b[39m\u001b[39m240.\u001b[39m)\n",
      "\u001b[1;31merror\u001b[0m: Not connected to physics server."
     ]
    }
   ],
   "source": [
    "\n",
    "cam_width, cam_height = 1920, 1640\n",
    "\n",
    "physicsClient = p.connect(p.GUI, options=\"--width=1024 --height=768\")\n",
    "cam_distance, cam_yaw, cam_pitch, cam_xyz_target = 8.76, 30.0, -30.0, [0.0, 0.0, 2.4]\n",
    "\n",
    "p.resetDebugVisualizerCamera(\n",
    "    cameraDistance=cam_distance,\n",
    "    cameraYaw=cam_yaw,\n",
    "    cameraPitch=cam_pitch,\n",
    "    cameraTargetPosition=cam_xyz_target,\n",
    ")\n",
    "\n",
    "p.setGravity(0,0,-10)\n",
    "BP=[1,2,30]\n",
    "BO= [0,0,0,1]\n",
    "planeId = p.loadURDF(\"plane.urdf\")\n",
    "boxId = p.loadURDF(fileName=\"r2d2.urdf\",basePosition=BP,baseOrientation=BO,globalScaling=3)\n",
    "for i in range (1000):\n",
    " p.stepSimulation()\n",
    " time.sleep(1./240.)"
   ]
  },
  {
   "cell_type": "code",
   "execution_count": 104,
   "metadata": {},
   "outputs": [],
   "source": [
    "p.disconnect(physicsClient)"
   ]
  },
  {
   "cell_type": "code",
   "execution_count": 101,
   "metadata": {},
   "outputs": [],
   "source": [
    "import pybullet as p\n",
    "import time\n",
    "import pybullet_data\n",
    "physicsClient = p.connect(p.GUI)#or p.DIRECT for non-graphical version\n",
    "p.setAdditionalSearchPath(pybullet_data.getDataPath()) #optionally\n",
    "\n",
    "# createCollisionShape / VisualShape\n",
    "shift = [0, -0.02, 0]\n",
    "meshScale = [0.1, 0.1, 0.1]*10\n",
    "\n",
    "logId = p.startStateLogging(p.STATE_LOGGING_PROFILE_TIMINGS, \"visualShapeBench.json\")\n",
    "#the visual shape and collision shape can be re-used by all createMultiBody instances (instancing)\n",
    "visualShapeId = p.createVisualShape(shapeType=p.GEOM_MESH,\n",
    "                                    fileName=\"duck.obj\",\n",
    "                                    rgbaColor=[1, 1, 1, 1],\n",
    "                                    specularColor=[0.4, .4, 0],\n",
    "                                    visualFramePosition=shift,\n",
    "                                    meshScale=meshScale)\n",
    "collisionShapeId = p.createCollisionShape(shapeType=p.GEOM_MESH,\n",
    "                                          fileName=\"duck_vhacd.obj\",\n",
    "                                          collisionFramePosition=shift,\n",
    "                                          meshScale=meshScale)\n",
    "\n",
    "rangex = 1\n",
    "rangey = 1\n",
    "for i in range(rangex):\n",
    "  for j in range(rangey):\n",
    "    p.createMultiBody(baseMass=1,\n",
    "                      baseInertialFramePosition=[0, 0, 0],\n",
    "                      baseCollisionShapeIndex=collisionShapeId,\n",
    "                      baseVisualShapeIndex=visualShapeId,\n",
    "                      basePosition=[((-rangex / 2) + i) * meshScale[0] * 2,\n",
    "                                    (-rangey / 2 + j) * meshScale[1] * 2, 1],\n",
    "                      useMaximalCoordinates=True)\n",
    "p.configureDebugVisualizer(p.COV_ENABLE_RENDERING, 1)\n",
    "p.stopStateLogging(logId)\n",
    "\n",
    "\n",
    "p.setTimeStep(1/240) ## default 1/240 sec\n",
    "p.setRealTimeSimulation(1)\n",
    "\n"
   ]
  },
  {
   "cell_type": "code",
   "execution_count": 99,
   "metadata": {},
   "outputs": [
    {
     "ename": "error",
     "evalue": "getMeshData failed",
     "output_type": "error",
     "traceback": [
      "\u001b[1;31m---------------------------------------------------------------------------\u001b[0m",
      "\u001b[1;31merror\u001b[0m                                     Traceback (most recent call last)",
      "Cell \u001b[1;32mIn[99], line 7\u001b[0m\n\u001b[0;32m      5\u001b[0m physicsClient \u001b[39m=\u001b[39m p\u001b[39m.\u001b[39mconnect(p\u001b[39m.\u001b[39mGUI)\u001b[39m#or p.DIRECT for non-graphical version\u001b[39;00m\n\u001b[0;32m      6\u001b[0m p\u001b[39m.\u001b[39msetAdditionalSearchPath(pybullet_data\u001b[39m.\u001b[39mgetDataPath()) \u001b[39m#optionally\u001b[39;00m\n\u001b[1;32m----> 7\u001b[0m p\u001b[39m.\u001b[39;49mgetMeshData(bodyUniqueId\u001b[39m=\u001b[39;49m\u001b[39m1\u001b[39;49m)\n",
      "\u001b[1;31merror\u001b[0m: getMeshData failed"
     ]
    }
   ],
   "source": [
    "## getMeshData\n"
   ]
  },
  {
   "cell_type": "code",
   "execution_count": 108,
   "metadata": {},
   "outputs": [
    {
     "name": "stdout",
     "output_type": "stream",
     "text": [
      "15\n"
     ]
    }
   ],
   "source": [
    "## Controlling a Robot\n",
    "physicsClient = p.connect(p.GUI)\n",
    "p.setAdditionalSearchPath(pybullet_data.getDataPath()) \n",
    "p.setPhysicsEngineParameter(numSolverIterations=10)\n",
    "p.setTimeStep(1. / 120.)\n",
    "logId = p.startStateLogging(p.STATE_LOGGING_PROFILE_TIMINGS, \"RC_prac.json\")\n",
    "RobotID=p.loadURDF(\"r2d2.urdf\", useMaximalCoordinates=True)  ## UniqueId\n",
    "p.configureDebugVisualizer(p.COV_ENABLE_RENDERING, 0)\n",
    "p.configureDebugVisualizer(p.COV_ENABLE_GUI, 0)\n",
    "p.configureDebugVisualizer(p.COV_ENABLE_TINY_RENDERER, 0)\n",
    "\n",
    "print(\"DOF: \", p.getNumJoints(RobotID))\n",
    "print(p.getNumJoints(RobotID))\n",
    "p.disconnect(physicsClient)\n"
   ]
  },
  {
   "cell_type": "code",
   "execution_count": 107,
   "metadata": {},
   "outputs": [],
   "source": []
  }
 ],
 "metadata": {
  "kernelspec": {
   "display_name": "somo",
   "language": "python",
   "name": "python3"
  },
  "language_info": {
   "codemirror_mode": {
    "name": "ipython",
    "version": 3
   },
   "file_extension": ".py",
   "mimetype": "text/x-python",
   "name": "python",
   "nbconvert_exporter": "python",
   "pygments_lexer": "ipython3",
   "version": "3.8.0"
  },
  "orig_nbformat": 4
 },
 "nbformat": 4,
 "nbformat_minor": 2
}
