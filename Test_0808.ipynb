{
 "cells": [
  {
   "cell_type": "code",
   "execution_count": null,
   "metadata": {},
   "outputs": [],
   "source": [
    "import pybullet as p\n",
    "import pybullet_data\n",
    "import os\n",
    "import sys\n",
    "import time"
   ]
  },
  {
   "cell_type": "code",
   "execution_count": null,
   "metadata": {},
   "outputs": [],
   "source": [
    "from somo.sm_manipulator_definition import SMManipulatorDefinition"
   ]
  },
  {
   "cell_type": "code",
   "execution_count": null,
   "metadata": {},
   "outputs": [],
   "source": [
    "#opt_str = \"--background_color_red=1.0 --background_color_green=1.0 --background_color_blue=1.0\"  # this opens the gui with a white background and no ground grid\n",
    "#physicsClient = p.connect(p.GUI, options=opt_str)\n",
    "\n",
    "cam_width, cam_height = 1920, 1640\n",
    "\n",
    "physicsClient = p.connect(p.GUI, options=\"--width=1024 --height=768\")\n",
    "cam_distance, cam_yaw, cam_pitch, cam_xyz_target = 8.76, 30.0, -30.0, [0.0, 0.0, 2.4]\n",
    "\n",
    "p.resetDebugVisualizerCamera(\n",
    "    cameraDistance=cam_distance,\n",
    "    cameraYaw=cam_yaw,\n",
    "    cameraPitch=cam_pitch,\n",
    "    cameraTargetPosition=cam_xyz_target,\n",
    ")"
   ]
  },
  {
   "cell_type": "code",
   "execution_count": null,
   "metadata": {},
   "outputs": [],
   "source": [
    "p.setGravity(0, 0, -9.81)\n",
    "p.setPhysicsEngineParameter(enableConeFriction=1) # Confriction?\n",
    "p.setRealTimeSimulation(0) # real time control ?  \n",
    "\n",
    "armId= p.loadURDF(\"bb_arm.urdf\")\n",
    "\n",
    "planeId = p.loadURDF(\"plane/plane.urdf\", flags=p.URDF_USE_MATERIAL_COLORS_FROM_MTL)\n",
    "p.changeDynamics(planeId, -1, lateralFriction=1)  # set ground plane friction\n",
    "#loadURDF(filename, basePos, baseOri, useMaximalCoordinates, useFixedBase, flags, globalscaling, physicsclientID)\n",
    "#boxId = p.loadURDF(\"twoBoxes.urdf\")"
   ]
  },
  {
   "cell_type": "code",
   "execution_count": null,
   "metadata": {},
   "outputs": [],
   "source": [
    "p.disconnect(physicsClient)"
   ]
  },
  {
   "cell_type": "code",
   "execution_count": null,
   "metadata": {},
   "outputs": [],
   "source": [
    "physicsClient = p.connect(p.GUI)\n",
    "#print(p.setAdditionalSearchPath(pybullet_data.getDataPath()))"
   ]
  },
  {
   "cell_type": "code",
   "execution_count": null,
   "metadata": {},
   "outputs": [],
   "source": [
    "import pybullet as p\n",
    "import time\n",
    "import pybullet_data\n",
    "physicsClient = p.connect(p.GUI)#or p.DIRECT for non-graphical version\n",
    "p.setAdditionalSearchPath(pybullet_data.getDataPath()) #optionally\n",
    "p.setGravity(0,0,-10)\n",
    "planeId = p.loadURDF(\"plane.urdf\")\n",
    "startPos = [0,0,1]\n",
    "startOrientation = p.getQuaternionFromEuler([0,0,0])\n",
    "boxId = p.loadURDF(\"r2d2.urdf\",startPos, startOrientation)\n",
    "#set the center of mass frame (loadURDF sets base link frame)\n",
    "startPos = p.resetBasePositionAndOrientation(boxId, startPos, startOrientation)\n",
    "for i in range (100):\n",
    " p.stepSimulation()\n",
    " time.sleep(1./240.)\n",
    "cubePos, cubeOrn = p.getBasePositionAndOrientation(boxId)\n",
    "print(cubePos,cubeOrn)\n",
    "p.disconnect(physicsClient)"
   ]
  },
  {
   "cell_type": "code",
   "execution_count": null,
   "metadata": {},
   "outputs": [],
   "source": [
    "physicsClient = p.connect(p.GUI)\n",
    "p.getConnectionInfo()\n",
    "p.isConnected()\n",
    "p.disconnect(physicsClient)\n",
    "p.setAdditionalSearchPath(pybullet_data.getDataPath())"
   ]
  },
  {
   "cell_type": "code",
   "execution_count": null,
   "metadata": {},
   "outputs": [],
   "source": [
    "cam_width, cam_height = 1920, 1640\n",
    "\n",
    "physicsClient = p.connect(p.GUI, options=\"--width=1024 --height=768\")\n",
    "cam_distance, cam_yaw, cam_pitch, cam_xyz_target = 8.76, 30.0, -30.0, [0.0, 0.0, 2.4]\n",
    "\n",
    "p.resetDebugVisualizerCamera(\n",
    "    cameraDistance=cam_distance,\n",
    "    cameraYaw=cam_yaw,\n",
    "    cameraPitch=cam_pitch,\n",
    "    cameraTargetPosition=cam_xyz_target,\n",
    ")\n",
    "\n",
    "p.setGravity(0,0,-10)\n",
    "BP=[1,2,30]\n",
    "BO= [0,0,0,1]\n",
    "planeId = p.loadURDF(\"plane.urdf\")\n",
    "boxId = p.loadURDF(fileName=\"r2d2.urdf\",basePosition=BP,baseOrientation=BO,globalScaling=3)\n",
    "for i in range (1000):\n",
    " p.stepSimulation()\n",
    " time.sleep(1./240.)"
   ]
  },
  {
   "cell_type": "code",
   "execution_count": null,
   "metadata": {},
   "outputs": [],
   "source": [
    "p.disconnect(physicsClient)"
   ]
  },
  {
   "cell_type": "code",
   "execution_count": null,
   "metadata": {},
   "outputs": [],
   "source": [
    "import pybullet as p\n",
    "import time\n",
    "import pybullet_data\n",
    "physicsClient = p.connect(p.GUI)#or p.DIRECT for non-graphical version\n",
    "p.setAdditionalSearchPath(pybullet_data.getDataPath()) #optionally\n",
    "\n",
    "# createCollisionShape / VisualShape\n",
    "shift = [0, -0.02, 0]\n",
    "meshScale = [0.1, 0.1, 0.1]*10\n",
    "\n",
    "logId = p.startStateLogging(p.STATE_LOGGING_PROFILE_TIMINGS, \"visualShapeBench.json\")\n",
    "#the visual shape and collision shape can be re-used by all createMultiBody instances (instancing)\n",
    "visualShapeId = p.createVisualShape(shapeType=p.GEOM_MESH,\n",
    "                                    fileName=\"duck.obj\",\n",
    "                                    rgbaColor=[1, 1, 1, 1],\n",
    "                                    specularColor=[0.4, .4, 0],\n",
    "                                    visualFramePosition=shift,\n",
    "                                    meshScale=meshScale)\n",
    "collisionShapeId = p.createCollisionShape(shapeType=p.GEOM_MESH,\n",
    "                                          fileName=\"duck_vhacd.obj\",\n",
    "                                          collisionFramePosition=shift,\n",
    "                                          meshScale=meshScale)\n",
    "\n",
    "rangex = 1\n",
    "rangey = 1\n",
    "for i in range(rangex):\n",
    "  for j in range(rangey):\n",
    "    p.createMultiBody(baseMass=1,\n",
    "                      baseInertialFramePosition=[0, 0, 0],\n",
    "                      baseCollisionShapeIndex=collisionShapeId,\n",
    "                      baseVisualShapeIndex=visualShapeId,\n",
    "                      basePosition=[((-rangex / 2) + i) * meshScale[0] * 2,\n",
    "                                    (-rangey / 2 + j) * meshScale[1] * 2, 1],\n",
    "                      useMaximalCoordinates=True)\n",
    "p.configureDebugVisualizer(p.COV_ENABLE_RENDERING, 1)\n",
    "p.stopStateLogging(logId)\n",
    "\n",
    "\n",
    "p.setTimeStep(1/240) ## default 1/240 sec\n",
    "p.setRealTimeSimulation(1)\n",
    "\n"
   ]
  },
  {
   "cell_type": "code",
   "execution_count": null,
   "metadata": {},
   "outputs": [],
   "source": [
    "import pybullet as p\n",
    "import pybullet_data\n",
    "import time\n",
    "## Controlling a Robot\n",
    "physicsClient = p.connect(p.GUI)\n",
    "p.setAdditionalSearchPath(pybullet_data.getDataPath()) \n",
    "p.setPhysicsEngineParameter(numSolverIterations=10)\n",
    "p.setTimeStep(1. / 240.)\n",
    "p.resetDebugVisualizerCamera(cameraDistance=2, cameraYaw=0, cameraPitch=-40, cameraTargetPosition=[0, 0, 0])\n",
    "\n",
    "#logId = p.startStateLogging(p.STATE_LOGGING_PROFILE_TIMINGS, \"RC_prac.json\")\n",
    "#RobotID=p.loadURDF(\"E:/PybulletModel/RobotControl/ContinuumRobot_model.urdf\", useMaximalCoordinates=True)  ## UniqueId\n",
    "RobotID=p.loadURDF(\"E:/PybulletModel/RobotControl/segment.urdf\", useMaximalCoordinates=True)  ## UniqueId\n",
    "p.configureDebugVisualizer(p.COV_ENABLE_RENDERING, 0)\n",
    "p.configureDebugVisualizer(p.COV_ENABLE_GUI, 0)\n",
    "p.configureDebugVisualizer(p.COV_ENABLE_TINY_RENDERER, 0) ## 처음 GUI 에 깔끔하게 정리된 랜더 \n",
    "\n",
    "#print(\"DOF: \", p.getNumJoints(RobotID))\n",
    "#print(p.getJointInfo(RobotID,jointIndex=3))\n",
    "\n",
    "for i in range (1000):\n",
    " p.stepSimulation()\n",
    " time.sleep(1./240.)\n",
    "p.disconnect(physicsClient)\n"
   ]
  },
  {
   "cell_type": "code",
   "execution_count": null,
   "metadata": {},
   "outputs": [],
   "source": [
    "p.disconnect(physicsClient)"
   ]
  },
  {
   "cell_type": "code",
   "execution_count": null,
   "metadata": {},
   "outputs": [],
   "source": [
    "import pybullet as p\n",
    "import pybullet_data\n",
    "import time\n",
    "\n",
    "physicsClient = p.connect(p.GUI)\n",
    "p.setAdditionalSearchPath(pybullet_data.getDataPath())\n",
    "p.setPhysicsEngineParameter(numSolverIterations=10)\n",
    "p.setTimeStep(1. / 240.)\n",
    "#p.setGravity(0, 0, -9.81)\n",
    "\n",
    "RobotID = p.loadURDF(\"E:/PybulletModel/RobotControl/segment.urdf\")  ## UniqueId\n",
    "\n",
    "# Set camera position and orientation\n",
    "p.resetDebugVisualizerCamera(cameraDistance=2, cameraYaw=0, cameraPitch=-40, cameraTargetPosition=[0, 0, 0])\n",
    "\n",
    "for i in range(1000):\n",
    "    p.stepSimulation()\n",
    "    time.sleep(1./240.)\n",
    "\n",
    "p.disconnect(physicsClient)\n",
    "\n"
   ]
  },
  {
   "cell_type": "code",
   "execution_count": null,
   "metadata": {},
   "outputs": [],
   "source": [
    "## XML 파일 바로 편집\n",
    "\n",
    "import xml.etree.ElementTree as ET\n",
    "\n",
    "tree = ET.parse(\"E:/PybulletModel/RobotControl/r2d2.urdf\")\n",
    "root = tree.getroot()\n",
    "\n",
    "\n",
    "## Inertia 변경\n",
    "for link in root.findall('link'):\n",
    "    inertial = link.find('inertial')\n",
    "    if inertial is not None:\n",
    "        mass = inertial.find('mass')\n",
    "        if mass is not None:\n",
    "            mass.set('value', 'new_mass_value')\n",
    "        \n",
    "        inertia = inertial.find('inertia')\n",
    "        if inertia is not None:\n",
    "            inertia.set('ixx', 'new_ixx_value')\n",
    "            inertia.set('iyy', 'new_iyy_value')\n",
    "            inertia.set('izz', 'new_izz_value')\n",
    "\n",
    "# Save and Write\n",
    "tree.write('path_to_save_modified_urdf.urdf')\n"
   ]
  },
  {
   "cell_type": "markdown",
   "metadata": {},
   "source": [
    "2023 08 28 Test\n"
   ]
  },
  {
   "cell_type": "code",
   "execution_count": 37,
   "metadata": {},
   "outputs": [
    {
     "ename": "error",
     "evalue": "Not connected to physics server.",
     "output_type": "error",
     "traceback": [
      "\u001b[1;31m---------------------------------------------------------------------------\u001b[0m",
      "\u001b[1;31merror\u001b[0m                                     Traceback (most recent call last)",
      "Cell \u001b[1;32mIn[37], line 54\u001b[0m\n\u001b[0;32m     51\u001b[0m time\u001b[39m.\u001b[39msleep(\u001b[39m0.01\u001b[39m)\n\u001b[0;32m     53\u001b[0m \u001b[39m# Get the current joint position\u001b[39;00m\n\u001b[1;32m---> 54\u001b[0m current_position, _, _, _ \u001b[39m=\u001b[39m p\u001b[39m.\u001b[39;49mgetJointState(RobotID, jointIndex)\n\u001b[0;32m     55\u001b[0m \u001b[39m#print(current_position)\u001b[39;00m\n\u001b[0;32m     56\u001b[0m \u001b[39m# Switch target position if the joint has reached close to the desired position\u001b[39;00m\n\u001b[0;32m     58\u001b[0m \u001b[39mif\u001b[39;00m \u001b[39mabs\u001b[39m(current_position \u001b[39m-\u001b[39m position1) \u001b[39m<\u001b[39m \u001b[39m0.1\u001b[39m:\n",
      "\u001b[1;31merror\u001b[0m: Not connected to physics server."
     ]
    }
   ],
   "source": [
    "import pybullet as p\n",
    "import pybullet_data\n",
    "import time\n",
    "\n",
    "\n",
    "cam_width, cam_height = 1920, 1640\n",
    "physicsClient = p.connect(p.GUI, options=\"--width=1024 --height=768\")\n",
    "cam_distance, cam_yaw, cam_pitch, cam_xyz_target = 6.76, 24.0, 12.0, [0.0, 0.0, 2.4]\n",
    "p.setGravity(0, 0, -9.81)\n",
    "p.setAdditionalSearchPath(pybullet_data.getDataPath())\n",
    "p.setPhysicsEngineParameter(numSolverIterations=10)\n",
    "p.setTimeStep(1. / 240.)\n",
    "p.resetDebugVisualizerCamera(\n",
    "    cameraDistance=cam_distance,\n",
    "    cameraYaw=cam_yaw,\n",
    "    cameraPitch=cam_pitch,\n",
    "    cameraTargetPosition=cam_xyz_target,\n",
    ")\n",
    "\n",
    "\n",
    "\n",
    "planeId = p.loadURDF(\"plane.urdf\")\n",
    "#RobotID = p.loadURDF(\"E:/PybulletModel/PM.urdf\")\n",
    "RobotID = p.loadURDF(\"E:/PybulletModel/RobotControl/ContinuumRobot_model.urdf\")\n",
    "\n",
    "jointIndex = p.getJointInfo(RobotID, 0)[0]\n",
    "\n",
    "# Define two target positions for oscillation\n",
    "position1 = 0.5\n",
    "position2 = 0.2\n",
    "target_position = position1\n",
    "## base fix\n",
    "p.createConstraint(parentBodyUniqueId=RobotID,\n",
    "                   parentLinkIndex=-1,  # -1 refers to the base link\n",
    "                   childBodyUniqueId=-1,  # -1 means no child body, i.e., fixed to the world\n",
    "                   childLinkIndex=-1,\n",
    "                   jointType=p.JOINT_FIXED,\n",
    "                   jointAxis=[0, 0, 0],\n",
    "                   parentFramePosition=[0, 0, 0],\n",
    "                   childFramePosition=[0, 0, 0])\n",
    "\n",
    "while True:\n",
    "    # Set joint position\n",
    "    p.setJointMotorControl2(bodyUniqueId=RobotID,\n",
    "                            jointIndex=jointIndex,\n",
    "                            controlMode=p.POSITION_CONTROL,\n",
    "                            targetPosition=target_position)\n",
    "    \n",
    "    # Step simulation\n",
    "    p.stepSimulation()\n",
    "    time.sleep(0.01)\n",
    "    \n",
    "    # Get the current joint position\n",
    "    current_position, _, _, _ = p.getJointState(RobotID, jointIndex)\n",
    "    #print(current_position)\n",
    "    # Switch target position if the joint has reached close to the desired position\n",
    "    \n",
    "    if abs(current_position - position1) < 0.1:\n",
    "        target_position = position2\n",
    "        \n",
    "    elif abs(current_position - position2) < 0.1:\n",
    "        target_position = position1\n",
    "        \n",
    "p.disconnect(physicsClient)\n"
   ]
  },
  {
   "cell_type": "code",
   "execution_count": 56,
   "metadata": {},
   "outputs": [],
   "source": [
    "p.disconnect(physicsClient)\n"
   ]
  },
  {
   "cell_type": "code",
   "execution_count": null,
   "metadata": {},
   "outputs": [],
   "source": [
    "## RM 1 Trial.\n",
    "\n",
    "import pybullet as p\n",
    "import pybullet_data\n",
    "import time\n",
    "\n",
    "\n",
    "cam_width, cam_height = 1920, 1640\n",
    "physicsClient = p.connect(p.GUI, options=\"--width=1024 --height=768\")\n",
    "cam_distance, cam_yaw, cam_pitch, cam_xyz_target = 6.76, 24.0, 12.0, [0.0, 0.0, 2.4]\n",
    "#p.setGravity(0, 0, -9.81)\n",
    "p.setAdditionalSearchPath(pybullet_data.getDataPath())\n",
    "p.setPhysicsEngineParameter(numSolverIterations=10)\n",
    "p.setTimeStep(1. / 240.)\n",
    "p.resetDebugVisualizerCamera(\n",
    "    cameraDistance=cam_distance,\n",
    "    cameraYaw=cam_yaw,\n",
    "    cameraPitch=cam_pitch,\n",
    "    cameraTargetPosition=cam_xyz_target,\n",
    ")\n",
    "\n",
    "planeId = p.loadURDF(\"plane.urdf\")\n",
    "RobotID = p.loadURDF(\"E:/PybulletModel/RM2.urdf\")\n",
    "\n",
    "# Get joint indices\n",
    "\n",
    "num_joints = p.getNumJoints(RobotID)\n",
    "for i in range(num_joints):\n",
    "    joint_info = p.getJointInfo(RobotID, i)\n",
    "    joint_name = joint_info[1].decode('utf-8')\n",
    "    if joint_name == \"bend_joint_x\":\n",
    "        bend_joint_x = i\n",
    "    elif joint_name == \"bend_joint_y\":\n",
    "        bend_joint_y = i\n",
    "    elif joint_name == \"linear_joint\":\n",
    "        linear_joint = i\n",
    "       \n",
    "## base fix Constraints\n",
    "       \n",
    "p.createConstraint(parentBodyUniqueId=RobotID,\n",
    "                   parentLinkIndex=-1,  # -1 refers to the base link\n",
    "                   childBodyUniqueId=-1,  # -1 means no child body, i.e., fixed to the world\n",
    "                   childLinkIndex=-1,\n",
    "                   jointType=p.JOINT_FIXED,\n",
    "                   jointAxis=[0, 0, 0],\n",
    "                   parentFramePosition=[0, 0, 0],\n",
    "                   childFramePosition=[0, 0, 0])\n",
    "      \n",
    "## Control loop\n",
    "while True:\n",
    "    # Bending around X-axis\n",
    "    # for angle in range(-90, 91, 10):  # -90 to 90 degrees with 5-degree increments\n",
    "    #     p.setJointMotorControl2(RobotID, bend_joint_x, p.POSITION_CONTROL, targetPosition=angle * 3.14 / 180)\n",
    "    #     p.stepSimulation()\n",
    "    #     time.sleep(0.01)\n",
    "\n",
    "    # Bending around Y-axis\n",
    "    # for angle in range(-90, 91, 10):\n",
    "    #     p.setJointMotorControl2(RobotID, bend_joint_y, p.POSITION_CONTROL, targetPosition=angle * 3.14 / 180)\n",
    "    #     p.stepSimulation()\n",
    "    #     time.sleep(0.01)\n",
    "\n",
    "    # Linear extension\n",
    "    for extension in [0, 0.25, 0.5, 0.25, 0]:  # Extend and retract\n",
    "        p.setJointMotorControl2(RobotID, linear_joint, p.POSITION_CONTROL, targetPosition=extension)\n",
    "        p.stepSimulation()\n",
    "        time.sleep(0.11)\n",
    "\n",
    "\n",
    "# while True:\n",
    "#     # Bending around X-axis\n",
    "#     for angle in range(-90, 91, 5):  # -90 to 90 degrees with 5-degree increments\n",
    "#         p.setJointMotorControl2(RobotID, bend_joint_x, p.POSITION_CONTROL, \n",
    "#                                 targetPosition=angle * 3.14 / 180, \n",
    "#                                 force=100,  # Adjust as needed\n",
    "#                                 positionGain=0.1)  # Adjust as needed\n",
    "#         p.stepSimulation()\n",
    "#         joint_state = p.getJointState(RobotID, bend_joint_x)\n",
    "#         print(f\"Bend X Joint Position: {joint_state[0]}\")\n",
    "#         time.sleep(0.1)\n",
    "        \n",
    "p.disconnect()"
   ]
  },
  {
   "cell_type": "code",
   "execution_count": 41,
   "metadata": {},
   "outputs": [
    {
     "ename": "",
     "evalue": "",
     "output_type": "error",
     "traceback": [
      "\u001b[1;31mCannot execute code, session has been disposed. Please try restarting the Kernel."
     ]
    },
    {
     "ename": "",
     "evalue": "",
     "output_type": "error",
     "traceback": [
      "\u001b[1;31mThe Kernel crashed while executing code in the the current cell or a previous cell. Please review the code in the cell(s) to identify a possible cause of the failure. Click <a href='https://aka.ms/vscodeJupyterKernelCrash'>here</a> for more info. View Jupyter <a href='command:jupyter.viewOutput'>log</a> for further details."
     ]
    }
   ],
   "source": [
    "import pybullet as p\n",
    "import pybullet_data\n",
    "import time\n",
    "\n",
    "cam_width, cam_height = 800, 500\n",
    "physicsClient = p.connect(p.GUI, options=\"--width=1024 --height=768\")\n",
    "cam_distance, cam_yaw, cam_pitch, cam_xyz_target = 2, 208.4, -36.8, [0.0, 0.0, 0.1]\n",
    "#p.setGravity(0, 0, -9.81)\n",
    "p.setAdditionalSearchPath(pybullet_data.getDataPath())\n",
    "p.setPhysicsEngineParameter(numSolverIterations=10)\n",
    "p.setTimeStep(1. / 60.)\n",
    "p.resetDebugVisualizerCamera(\n",
    "    cameraDistance=cam_distance,\n",
    "    cameraYaw=cam_yaw,\n",
    "    cameraPitch=cam_pitch,\n",
    "    cameraTargetPosition=cam_xyz_target,\n",
    ")\n",
    "\n",
    "      \n",
    "planeId = p.loadURDF(\"plane.urdf\", globalScaling=1)\n",
    "#planeId = p.loadURDF(\"E:/PybulletModel/blackplate.urdf\", globalScaling=1)\n",
    "RobotID = p.loadURDF(\"E:/PybulletModel/SMv1.urdf\")\n",
    "\n",
    "while True:\n",
    "    p.stepSimulation()\n",
    "    time.sleep(0.01)\n",
    "p.disconnect()\n"
   ]
  },
  {
   "cell_type": "code",
   "execution_count": 34,
   "metadata": {},
   "outputs": [
    {
     "ename": "error",
     "evalue": "Not connected to physics server.",
     "output_type": "error",
     "traceback": [
      "\u001b[1;31m---------------------------------------------------------------------------\u001b[0m",
      "\u001b[1;31merror\u001b[0m                                     Traceback (most recent call last)",
      "Cell \u001b[1;32mIn[34], line 1\u001b[0m\n\u001b[1;32m----> 1\u001b[0m p\u001b[39m.\u001b[39;49mdisconnect()\n",
      "\u001b[1;31merror\u001b[0m: Not connected to physics server."
     ]
    }
   ],
   "source": [
    "p.disconnect()"
   ]
  }
 ],
 "metadata": {
  "kernelspec": {
   "display_name": "somo",
   "language": "python",
   "name": "python3"
  },
  "language_info": {
   "codemirror_mode": {
    "name": "ipython",
    "version": 3
   },
   "file_extension": ".py",
   "mimetype": "text/x-python",
   "name": "python",
   "nbconvert_exporter": "python",
   "pygments_lexer": "ipython3",
   "version": "3.8.0"
  },
  "orig_nbformat": 4
 },
 "nbformat": 4,
 "nbformat_minor": 2
}
